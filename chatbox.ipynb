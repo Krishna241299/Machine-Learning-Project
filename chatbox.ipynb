{
 "cells": [
  {
   "cell_type": "code",
   "execution_count": 1,
   "id": "8fc67b51",
   "metadata": {},
   "outputs": [],
   "source": [
    "from nltk.chat.util import Chat,reflections"
   ]
  },
  {
   "cell_type": "code",
   "execution_count": 2,
   "id": "6dc16194",
   "metadata": {},
   "outputs": [
    {
     "name": "stdout",
     "output_type": "stream",
     "text": [
      "{'i am': 'you are', 'i was': 'you were', 'i': 'you', \"i'm\": 'you are', \"i'd\": 'you would', \"i've\": 'you have', \"i'll\": 'you will', 'my': 'your', 'you are': 'I am', 'you were': 'I was', \"you've\": 'I have', \"you'll\": 'I will', 'your': 'my', 'yours': 'mine', 'you': 'me', 'me': 'you'}\n"
     ]
    }
   ],
   "source": [
    "print(reflections)"
   ]
  },
  {
   "cell_type": "code",
   "execution_count": 3,
   "id": "e4957f24",
   "metadata": {},
   "outputs": [],
   "source": [
    "#pairs = #Pairs is a list of patterns and responses.\n",
    "pairs = [\n",
    "    [\n",
    "        r\"(hi|hey|hello|hola|holla)(.*)\",\n",
    "        [\"Hello\", \"Hey there\",]\n",
    "    ],\n",
    "    [\n",
    "        r\"(.*)created(.*)\",\n",
    "        [\"krishna created me using Python's NLTK library \",\"top secret ;)\",]\n",
    "    ],    \n",
    "    [\n",
    "        r\"(.*)name(.*)\",\n",
    "        [\"I am Gobalakrishnan Vellingiri\",]\n",
    "    ],\n",
    "    [\n",
    "        r\"how are you(.*)\",\n",
    "        [\"I'm doing very well... How are you\",]\n",
    "    ],\n",
    "    [\n",
    "        r\"(.*) (good|well|okay|ok)\",\n",
    "        [\"Nice to hear that\",\"Alright, great !\",]\n",
    "    ],\n",
    "    [\n",
    "        r\"(.*)(Qualification|qualification)(.*) \",\n",
    "        [\"I am an Engineering Graduate, specialization in Mechanical Engineering\",]\n",
    "    ],\n",
    "    [\n",
    "        r\"sorry(.*)\",\n",
    "        [\"Its alright\",\"Its OK, never mind that\",]\n",
    "    ],\n",
    "    [\n",
    "        r\"(.*)(contact|details)\",\n",
    "        [\" Location – Erode, Tamil Nadu – 638110,Phone - +91 9600276238,Email- gobalakrishnanvellingiri@gmail.com\",]\n",
    "        \n",
    "    ],\n",
    "    [\n",
    "        r\"(.*)(project|projects)(.*)\",\n",
    "        [\"I did two projects.Language- Python .They are Temperature_Prediction and My_Resume chatbox\",]\n",
    "    ],\n",
    "    [\n",
    "        r\"(.*)disability(.*)\",\n",
    "        [\"I don't have any disabilities \",]\n",
    "    ],\n",
    "    [\n",
    "        r\"(.*)hobbies(.*)\",\n",
    "        [\"Playing Cricket, Loves bike travelling \",]\n",
    "    ],\n",
    "    [\n",
    "        r\"(.*)(Skills|skills)(.*)\",\n",
    "        [\"Python,C++,SQL-Oracle DBA,tableau,Microsoft Excel, Microsoft Powerpoint\",]\n",
    "    ],\n",
    "    [\n",
    "        r\"(.*)datascience(.*)\",\n",
    "        [\" Python packages (Numpy, Pandas, Matplotlib, Seaborn & Sci-kit Learn),Python framework(Django),Machine learning & Deep learning algorithms,Data visualization – tableau,SQL-Oracle DBA \",]\n",
    "    ],\n",
    "    [\n",
    "        r\"(.*)(certification|certifications)(.*)\",\n",
    "        [\"Business Analysis Fundamentals – Udemy,Career Edge – TCSiON (Communication & Interpersonal Skills)& Data Science Program- Besant Technologies\",]\n",
    "    ],\n",
    "    [\n",
    "        r\"(.*)(college|university)(.*)\",\n",
    "        [\"PSG Institute of Technology & Applied Research-Coimbatore,TamilNadu\",]\n",
    "    ],\n",
    "    [\n",
    "        r\"(.*)(sports|game|sport)(.*)\",\n",
    "        [\"I'm a very big fan of Cricket\"]\n",
    "    ],\n",
    "    [\n",
    "        r\"who (.*)(bowler|Bowler)?\",\n",
    "        [\"Jasprit Bumrah\"]\n",
    "    ],\n",
    "    [\n",
    "        r\"who (.*)(batsman|Batsman|Cricketer)\",\n",
    "        [\"Virat Kohli\"]\n",
    "    ],\n",
    "    [\n",
    "        r\"(bye|exit|quit)\",\n",
    "        [\"Bye for now. See you soon :) \",\"It was nice talking to you. See you soon :)\"]\n",
    "    ],\n",
    "    [\n",
    "        r\"(.*)\",\n",
    "        ['That is nice to hear']\n",
    "    ],\n",
    "]\n"
   ]
  },
  {
   "cell_type": "code",
   "execution_count": null,
   "id": "b658b881",
   "metadata": {},
   "outputs": [
    {
     "name": "stdout",
     "output_type": "stream",
     "text": [
      "\n",
      "Good afternoon Sir/Madam.I am a chatbox\n",
      ">do have any disability\n",
      "I don't have any disabilities \n",
      ">how are you\n",
      "I'm doing very well\n",
      ">I am good\n",
      "That is nice to hear\n"
     ]
    }
   ],
   "source": [
    "import datetime\n",
    "currentTime = datetime.datetime.now()\n",
    "currentTime.hour\n",
    "if currentTime.hour < 12:\n",
    "    print('\\nGood morning Sir/Madam.I am a chatbox')\n",
    "elif 12 <= currentTime.hour < 18:\n",
    "    print('\\nGood afternoon Sir/Madam.I am a chatbox')\n",
    "else:\n",
    "    print('\\nGood evening Sir/Madam.I am a chatbox')\n",
    "#Creating the chatbox\n",
    "chat=Chat(pairs,reflections)\n",
    "#Starting the Conversation\n",
    "chat.converse()"
   ]
  },
  {
   "cell_type": "code",
   "execution_count": null,
   "id": "0a0271af",
   "metadata": {},
   "outputs": [],
   "source": []
  },
  {
   "cell_type": "code",
   "execution_count": null,
   "id": "d543d6d5",
   "metadata": {},
   "outputs": [],
   "source": []
  },
  {
   "cell_type": "code",
   "execution_count": null,
   "id": "602e95b0",
   "metadata": {},
   "outputs": [],
   "source": []
  }
 ],
 "metadata": {
  "kernelspec": {
   "display_name": "Python 3 (ipykernel)",
   "language": "python",
   "name": "python3"
  },
  "language_info": {
   "codemirror_mode": {
    "name": "ipython",
    "version": 3
   },
   "file_extension": ".py",
   "mimetype": "text/x-python",
   "name": "python",
   "nbconvert_exporter": "python",
   "pygments_lexer": "ipython3",
   "version": "3.9.13"
  }
 },
 "nbformat": 4,
 "nbformat_minor": 5
}
